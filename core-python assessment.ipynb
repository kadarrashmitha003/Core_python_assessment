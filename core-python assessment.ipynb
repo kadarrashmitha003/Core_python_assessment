{
 "cells": [
  {
   "cell_type": "code",
   "execution_count": null,
   "id": "09c642c8-33af-4e9c-8c68-5c0e69bc6bd8",
   "metadata": {},
   "outputs": [],
   "source": [
    "\"\"\"1. E-Commerce Cart System** \n",
    "\n",
    "Scenario:\n",
    "\n",
    "You are designing the logic for an e-commerce website. Write a program to calculate the total price of items in a user's cart. If the cart contains more than 5 items, apply 10% discount.\n",
    "\n",
    "Requirements:\n",
    "\n",
    "- Use a function to calculate the total price.\n",
    "\n",
    "- Handle cases where the cart is empty.\n",
    "\n",
    "Input Example:\n",
    "\n",
    "cart_items = {'Laptop': 50000, 'Headphones': 2000, 'Mouse': 500, 'Keyboard': 1500}\n",
    "\n",
    "Expected Output:\n",
    "\n",
    "Total Price: 54000\"\"\""
   ]
  },
  {
   "cell_type": "code",
   "execution_count": 50,
   "id": "91f5101e-2336-42e8-8f1d-25a2e161564f",
   "metadata": {},
   "outputs": [
    {
     "name": "stdin",
     "output_type": "stream",
     "text": [
      "enter if user want to add  the items into the cart(enter yes for addding items otherwise enter no/none yes\n",
      "enter how many items user want to select 5\n",
      "enter 1)laptop 2)headphones 3)mouse 4)keyboard 1\n"
     ]
    },
    {
     "name": "stdout",
     "output_type": "stream",
     "text": [
      "laptop id added to your cart\n",
      "price of laptop is 50000\n"
     ]
    },
    {
     "name": "stdin",
     "output_type": "stream",
     "text": [
      "enter 1)laptop 2)headphones 3)mouse 4)keyboard 2\n"
     ]
    },
    {
     "name": "stdout",
     "output_type": "stream",
     "text": [
      "headphones are added to the cart\n",
      "headphone price is 2000\n"
     ]
    },
    {
     "name": "stdin",
     "output_type": "stream",
     "text": [
      "enter 1)laptop 2)headphones 3)mouse 4)keyboard 3\n"
     ]
    },
    {
     "name": "stdout",
     "output_type": "stream",
     "text": [
      "mouse are added to the cart\n",
      "mouse price is 500\n"
     ]
    },
    {
     "name": "stdin",
     "output_type": "stream",
     "text": [
      "enter 1)laptop 2)headphones 3)mouse 4)keyboard 4\n"
     ]
    },
    {
     "name": "stdout",
     "output_type": "stream",
     "text": [
      "keyboard are added to the cart\n",
      "headphone price is 1500\n"
     ]
    },
    {
     "name": "stdin",
     "output_type": "stream",
     "text": [
      "enter 1)laptop 2)headphones 3)mouse 4)keyboard 3\n"
     ]
    },
    {
     "name": "stdout",
     "output_type": "stream",
     "text": [
      "mouse are added to the cart\n",
      "mouse price is 500\n",
      "the total price is 54500\n",
      "after ading 10% discount to your total amount is 49050.0\n"
     ]
    }
   ],
   "source": [
    "def total_price():\n",
    "    user_cart=input(\"enter if user want to add  the items into the cart(enter yes for addding items otherwise enter no/none\")\n",
    "    if user_cart==\"none\" or user_cart==\"no\":\n",
    "        print(\"cart is empty..!would you like to add anyitemsto cart??\")\n",
    "    else:\n",
    "        items_req=int(input(\"enter how many items user want to select\"))\n",
    "        total=0\n",
    "        for i in range(items_req):\n",
    "            choice=int(input(\"enter 1)laptop 2)headphones 3)mouse 4)keyboard\"))\n",
    "            if choice==1:\n",
    "                 print(\"laptop id added to your cart\")\n",
    "                 laptop_price=50000\n",
    "                 print(\"price of laptop is\",laptop_price)\n",
    "                 total+=laptop_price\n",
    "            elif choice==2:\n",
    "                 print(\"headphones are added to the cart\")\n",
    "                 headphone_price=2000\n",
    "                 print(\"headphone price is\",headphone_price)\n",
    "                 total+=headphone_price\n",
    "            elif choice==3:\n",
    "                 print(\"mouse are added to the cart\")\n",
    "                 mouse_price=500\n",
    "                \n",
    "                 print(\"mouse price is\",mouse_price)\n",
    "                 total+=mouse_price\n",
    "            elif choice==4:\n",
    "                 print(\"keyboard are added to the cart\")\n",
    "                 keyboard_price=1500\n",
    "                 print(\"headphone price is\",keyboard_price)\n",
    "                 total+=keyboard_price\n",
    "            else:\n",
    "                print(\"Invalid choice.\")\n",
    "        print(\"the total price is\",total)\n",
    "        if items_req>=5:\n",
    "            d_total=total-(total*10)/100\n",
    "        \n",
    "            print(\"after addcing 10% discount to your total amount is\",d_total)\n",
    "    \n",
    "     \n",
    "total_price()"
   ]
  },
  {
   "cell_type": "code",
   "execution_count": null,
   "id": "9fe1c138-e7f1-4a07-b901-59fc983d7260",
   "metadata": {},
   "outputs": [],
   "source": [
    "/\"\"\"2. Restaurant Menu Management\n",
    "\n",
    "Scenario:\n",
    "\n",
    "You are managing a restaurant's menu. Write a program to update the menu by adding or removing items and allow users to check if a particular item is available.\n",
    "\n",
    "Requirements:\n",
    "\n",
    "- Use functions for adding, removing, and checking menu items.\n",
    "\n",
    "- Handle cases where the item to be removed does not exist.\n",
    "\n",
    "Input Example:\n",
    "\n",
    "initial_menu = [\"Pizza\", \"Burger\", \"Pasta\", \"Salad\"]\n",
    "\n",
    "add_item = \"Tacos\"\n",
    "\n",
    "remove_item = \"Salad\"\n",
    "\n",
    "check_item = \"Pizza\"\n",
    "\n",
    "Expected Output:\n",
    "\n",
    "Updated menu: [\"Pizza\", \"Burger\", \"Pasta\", \"Tacos\"]\n",
    "\n",
    "Availability: \"Pizza is available\"\"\""
   ]
  },
  {
   "cell_type": "code",
   "execution_count": 78,
   "id": "a42c9d2d-0fc2-4105-8673-d3b1b805e47c",
   "metadata": {},
   "outputs": [
    {
     "name": "stdout",
     "output_type": "stream",
     "text": [
      "Initial menu: ['Pizza', 'Burger', 'Pasta', 'Salad']\n"
     ]
    },
    {
     "name": "stdin",
     "output_type": "stream",
     "text": [
      "Would you like to add an item to the menu? (yes/no):  no\n"
     ]
    },
    {
     "name": "stdout",
     "output_type": "stream",
     "text": [
      "No items were added to the list.\n"
     ]
    },
    {
     "name": "stdin",
     "output_type": "stream",
     "text": [
      "Would you like to remove an item from the menu? (yes/no):  no\n"
     ]
    },
    {
     "name": "stdout",
     "output_type": "stream",
     "text": [
      "No items were deleted from the list.\n"
     ]
    },
    {
     "name": "stdin",
     "output_type": "stream",
     "text": [
      "Would you like to search for a specific item? (yes/no):  yes\n",
      "Which item do you need?  Pizza\n"
     ]
    },
    {
     "name": "stdout",
     "output_type": "stream",
     "text": [
      "Pizza item is available.\n",
      "Updated menu: ['Pizza', 'Burger', 'Pasta', 'Salad']\n"
     ]
    }
   ],
   "source": [
    "def add_item(menu, item):\n",
    "    menu.append(item)\n",
    "    print(item,\"item has been added to the menu.\")\n",
    "\n",
    "def remove_item(menu, item):\n",
    "    if item in menu:\n",
    "        menu.remove(item)\n",
    "        print(item,\"item has been removed from the menu.\")\n",
    "    else:\n",
    "        print(item,\"item is not found in the menu. Cannot remove.\")\n",
    "\n",
    "def check_item(menu, item):\n",
    "    if item in menu:\n",
    "        print(item,\"item is available.\")\n",
    "    else:\n",
    "        print(item,\"qqitem is not available.\")\n",
    "\n",
    "initial_menu = [\"Pizza\", \"Burger\", \"Pasta\", \"Salad\"]\n",
    "print(\"Initial menu:\", initial_menu)\n",
    "\n",
    "user = input(\"Would you like to add an item to the menu? (yes/no): \")\n",
    "if user == \"yes\":\n",
    "    item = input(\"Which item would you like to add? \")\n",
    "    add_item(initial_menu, item)\n",
    "else:\n",
    "    print(\"No items were added to the list.\")\n",
    "\n",
    "user2 = input(\"Would you like to remove an item from the menu? (yes/no): \")\n",
    "if user2 == \"yes\":\n",
    "    item = input(\"Which item would you like to remove? \")\n",
    "    remove_item(initial_menu, item)\n",
    "else:\n",
    "    print(\"No items were deleted from the list.\")\n",
    "\n",
    "user3 = input(\"Would you like to search for a specific item? (yes/no): \")\n",
    "if user3 == \"yes\":\n",
    "    item = input(\"Which item do you need? \")\n",
    "    check_item(initial_menu, item)\n",
    "\n",
    "\n",
    "print(\"Updated menu:\", initial_menu)\n"
   ]
  },
  {
   "cell_type": "code",
   "execution_count": null,
   "id": "4f5b9f8f-ed43-42d0-b1ba-c30a2049a8ca",
   "metadata": {},
   "outputs": [],
   "source": [
    "\"\"\"3. Classroom Performance Tracker\n",
    "\n",
    "Scenario:A teacher wants to track student performance. Write a program to calculate the **average marks** of students and identify the **top performer**.\n",
    "\n",
    "Requirements:\n",
    "\n",
    "- Use a function to calculate the average marks.\n",
    "\n",
    "- Identify the student with the highest average.\n",
    "\n",
    "- Optional: Implement a `Student` class to handle this logic.\n",
    "\n",
    "Input Example:\n",
    "\n",
    "students = {\"John\": [85, 78, 92], \"Alice\": [88, 79, 95], \"Bob\": [70, 75, 80]}\n",
    "\n",
    "Expected Output:\n",
    "\n",
    "Average Marks: {\"John\": 85, \"Alice\": 87.33, \"Bob\": 75}\n",
    "\n",
    "Top Performer: \"Alice\"\n",
    "\n",
    " \n",
    "\n",
    "                                                                                                                                  "
   ]
  },
  {
   "cell_type": "code",
   "execution_count": 18,
   "id": "ffa37796-ed7a-406d-a8cc-7069307a5231",
   "metadata": {},
   "outputs": [
    {
     "name": "stdout",
     "output_type": "stream",
     "text": [
      "Average Marks: {'John': 85.0, 'Alice': 87.33, 'Bob': 75.0}\n",
      "Top Performer: Alice\n"
     ]
    }
   ],
   "source": [
    "students = {\"John\": [85, 78, 92], \"Alice\": [88, 79, 95], \"Bob\": [70, 75, 80]}\n",
    "averages = {}\n",
    "\n",
    "for name in students:\n",
    "    avg = sum(students[name]) / len(students[name])\n",
    "    averages[name] = round(avg, 2)\n",
    "\n",
    "print(\"Average Marks:\", averages)\n",
    "\n",
    "top = max(averages, key=averages.get)\n",
    "print(\"Top Performer:\", top)\n"
   ]
  },
  {
   "cell_type": "code",
   "execution_count": null,
   "id": "e236c2ce-f5b4-476d-8ca5-82773b1558d1",
   "metadata": {},
   "outputs": [],
   "source": [
    "\"\"\"4. Movie Ticket Booking System\n",
    "\n",
    "Scenario:\n",
    "\n",
    "A cinema hall wants to manage ticket bookings. Write a program to keep track of **available** and **booked seats**. Allow users to **book** or **cancel** a seat.\n",
    "\n",
    "Requirements:\n",
    "\n",
    "- Use functions to handle seat booking and cancellation.\n",
    "\n",
    "- Prevent booking an already booked seat.\n",
    "\n",
    "Input Example:\n",
    "\n",
    "total_seats = 10\n",
    "\n",
    "booked_seats = [2, 5, 7]\n",
    "\n",
    "book_seat = 3\n",
    "\n",
    "cancel_seat = 5\"\""
   ]
  },
  {
   "cell_type": "code",
   "execution_count": 23,
   "id": "2e235cc1-705e-4498-9f0c-0f7963fa8b8b",
   "metadata": {},
   "outputs": [
    {
     "name": "stdin",
     "output_type": "stream",
     "text": [
      "Choose: Would you like to 'book' a seat, 'cancel' a seat, or 'exit'?  exit\n"
     ]
    },
    {
     "name": "stdout",
     "output_type": "stream",
     "text": [
      "Thank you for using the movie ticket booking system!\n"
     ]
    }
   ],
   "source": [
    "total_seats = 10\n",
    "booked_seats = [2, 5, 7]\n",
    "avaliable_seats = [1, 3, 4, 6, 8, 9, 10]  \n",
    "\n",
    "def booking():\n",
    "        print(\"available seats are\", avaliable_seats)\n",
    "        seat_choosing = int(input(\"enter which seat you prefer to book: \"))\n",
    "        if seat_choosing in avaliable_seats:\n",
    "            booked_seats.append(seat_choosing)\n",
    "            avaliable_seats.remove(seat_choosing)\n",
    "            print(\"your seat has been booked\")\n",
    "            print(\"remaining seats that are available are:\", avaliable_seats)\n",
    "        else:\n",
    "            print(\"the seat has already been booked or invalid, would you like to choose another seat?\")\n",
    "\n",
    "def cancel():\n",
    "        cancelling = int(input(\"enter the seat number to cancel the booking: \"))\n",
    "        if cancelling in booked_seats:\n",
    "            booked_seats.remove(cancelling)\n",
    "            avaliable_seats.append(cancelling)\n",
    "            avaliable_seats.sort() \n",
    "            print(f\"your seat {cancelling} booking has been cancelled successfully\")\n",
    "            print(\"remaining seats that are available are:\", avaliable_seats)\n",
    "        else:\n",
    "            print(\"seat number was not booked. Cannot cancel.\")\n",
    "\n",
    "while True:\n",
    "    user = input(\"Choose: Would you like to 'book' a seat, 'cancel' a seat, or 'exit'? \").lower()\n",
    "    if user == \"book\":\n",
    "        booking()\n",
    "    elif user == \"cancel\":\n",
    "        cancel()\n",
    "    elif user == \"exit\":\n",
    "        print(\"Thank you for using the movie ticket booking system!\")\n",
    "        break\n",
    "    else:\n",
    "        print(\"Invalid option\")\n"
   ]
  },
  {
   "cell_type": "code",
   "execution_count": null,
   "id": "57f9594c-2588-46bb-b19e-246fe6cb0811",
   "metadata": {},
   "outputs": [],
   "source": [
    "\"\"\"5. Hospital Patient Management\n",
    "\n",
    "Scenario:\n",
    "\n",
    "A hospital needs a system to manage patient records. Write a program to store patient data, including **name, age, and disease**, and allow the admin to search for patients by disease.\n",
    "\n",
    "Requirements:\n",
    "\n",
    "- Store patient records in a list of dictionaries.\n",
    "\n",
    "- Allow searching for patients based on disease.\n",
    "\n",
    "- Optional: Use a `Patient` class to manage records.\n",
    "\n",
    "Input Example:\n",
    "\n",
    "patients = [\n",
    "\n",
    "    {\"Name\": \"Alice\", \"Age\": 30, \"Disease\": \"Flu\"},\n",
    "\n",
    "    {\"Name\": \"Bob\", \"Age\": 45, \"Disease\": \"Diabetes\"},\n",
    "\n",
    "    {\"Name\": \"Charlie\", \"Age\": 35, \"Disease\": \"Flu\"}\n",
    "\n",
    "]\n",
    "\n",
    "search_disease = \"Flu\"\n",
    "\n",
    "Expected Output:\n",
    "\n",
    "Patients with Flu: [\"Alice\", \"Charlie\"]\"\"\""
   ]
  },
  {
   "cell_type": "code",
   "execution_count": 28,
   "id": "055a349c-028d-4ed5-bcc5-9193940a41bc",
   "metadata": {},
   "outputs": [
    {
     "name": "stdout",
     "output_type": "stream",
     "text": [
      "Alice\n",
      "Charlie\n"
     ]
    }
   ],
   "source": [
    "class Patient():\n",
    "    def hospital(self):\n",
    "        patients = [\n",
    "            {\"Name\": \"Alice\", \"Age\": 30, \"Disease\": \"Flu\"},\n",
    "            {\"Name\": \"Bob\", \"Age\": 45, \"Disease\": \"Diabetes\"},\n",
    "            {\"Name\": \"Charlie\", \"Age\": 35, \"Disease\": \"Flu\"}\n",
    "        ]\n",
    "        \n",
    "        value = \"Flu\"\n",
    "        \n",
    "        for patient in patients:\n",
    "            if patient[\"Disease\"] == value:\n",
    "                print(patient[\"Name\"])\n",
    "\n",
    "p = Patient()\n",
    "p.hospital()\n"
   ]
  },
  {
   "cell_type": "code",
   "execution_count": null,
   "id": "9e1e92eb-5e01-4b8b-b26b-ed2e5b44d7a9",
   "metadata": {},
   "outputs": [],
   "source": [
    "6. Customer Feedback Analysis\n",
    "\n",
    "Scenario:\n",
    "\n",
    "A company collects customer feedback in the form of ratings (1-5). Write a program to calculate the **percentage of positive feedback** (4 or 5).\n",
    "\n",
    "Requirements:\n",
    "\n",
    "- Use a function to calculate the positive feedback percentage.\n",
    "\n",
    "- Handle cases where no ratings are available.\n",
    "\n",
    "Input Example:\n",
    "\n",
    "```python\n",
    "\n",
    "ratings = [5, 4, 3, 5, 2, 4, 1, 5]\n",
    "\n",
    "```\n",
    "\n",
    "Expected Output:\n",
    "\n",
    "```\n",
    "\n",
    "Positive Feedback: 62.5%\n",
    "\n",
    "```\n",
    "\n",
    "---"
   ]
  },
  {
   "cell_type": "code",
   "execution_count": 40,
   "id": "43f4cb1a-a7f7-455f-8fe0-97dedb687a3f",
   "metadata": {},
   "outputs": [
    {
     "name": "stdout",
     "output_type": "stream",
     "text": [
      "Positive Feedback:  62.5 %\n"
     ]
    }
   ],
   "source": [
    "def feedback():\n",
    "    ratings = [5, 4, 3, 5, 2, 4, 1, 5]\n",
    "    count = 0\n",
    "    for i in ratings:\n",
    "        if i == 4 or i == 5:\n",
    "            count += 1\n",
    "    percentage = (count / len(ratings)) * 100\n",
    "    print(\"Positive Feedback: \",percentage,\"%\")\n",
    "\n",
    "feedback()\n"
   ]
  },
  {
   "cell_type": "code",
   "execution_count": null,
   "id": "32e967c8-3ce7-4dc7-9c3d-e5174f9e242e",
   "metadata": {},
   "outputs": [],
   "source": [
    "\"\"\"7. Taxi Fare Calculation\n",
    "\n",
    "Scenario:\n",
    "\n",
    "A taxi service calculates fares based on the following rates: \n",
    "\n",
    "- **Base fare**: $50 \n",
    "\n",
    "- **Distance fare**: $10/km \n",
    "\n",
    "Write a program to calculate the total fare for multiple trips.\n",
    "\n",
    "Requirements:\n",
    "\n",
    "- Use a function to calculate fare for each trip.\n",
    "\n",
    "Input Example:\n",
    "\n",
    "```python\n",
    "\n",
    "trips = [5, 10, 3]  # Distances in km\n",
    "\n",
    "```\n",
    "\n",
    "Expected Output:\n",
    "\n",
    "```\n",
    "\n",
    "Trip 1: $100\n",
    "\n",
    "Trip 2: $150\n",
    "\n",
    "Trip 3: $80\n",
    "\n",
    "Total Fare: $330\"\"\""
   ]
  },
  {
   "cell_type": "code",
   "execution_count": null,
   "id": "ffe8d53c-c5cb-44f4-9da3-5fa56383075e",
   "metadata": {},
   "outputs": [],
   "source": [
    "def fare():\n",
    "    trips = [5, 10, 3]\n",
    "    total = 0\n",
    "    i = 0  \n",
    "    while i < len(trips): \n",
    "        amount = 50 + trips[i] * 10\n",
    "        i = i + 1\n",
    "        print(amount)\n",
    "        total += amount \n",
    "    print(\"Total Fare:\", total)\n",
    "\n",
    "fare()\n"
   ]
  },
  {
   "cell_type": "code",
   "execution_count": 15,
   "id": "afb50807-0d78-4171-94d0-bf05e0ac0750",
   "metadata": {},
   "outputs": [
    {
     "name": "stdout",
     "output_type": "stream",
     "text": [
      "100\n",
      "150\n",
      "80\n",
      "Total Fare: 330\n"
     ]
    }
   ],
   "source": [
    "def fare():\n",
    "    trips = [5, 10, 3]\n",
    "    total = 0\n",
    "    \n",
    "    for i in range(len(trips)):  \n",
    "        amount = 50 + trips[i] * 10\n",
    "        print(amount)\n",
    "        total += amount \n",
    "    \n",
    "    print(\"Total Fare:\", total)  \n",
    "\n",
    "fare()\n"
   ]
  },
  {
   "cell_type": "code",
   "execution_count": null,
   "id": "8dc5a011-b5fc-4c19-84eb-3458294eff93",
   "metadata": {},
   "outputs": [],
   "source": []
  }
 ],
 "metadata": {
  "kernelspec": {
   "display_name": "Python 3 (ipykernel)",
   "language": "python",
   "name": "python3"
  },
  "language_info": {
   "codemirror_mode": {
    "name": "ipython",
    "version": 3
   },
   "file_extension": ".py",
   "mimetype": "text/x-python",
   "name": "python",
   "nbconvert_exporter": "python",
   "pygments_lexer": "ipython3",
   "version": "3.12.5"
  }
 },
 "nbformat": 4,
 "nbformat_minor": 5
}
